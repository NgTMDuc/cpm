{
 "cells": [
  {
   "cell_type": "code",
   "execution_count": 1,
   "id": "59a6bb9b",
   "metadata": {},
   "outputs": [],
   "source": [
    "from scipy.io import loadmat, savemat\n",
    "import pandas as pd\n",
    "import numpy as np"
   ]
  },
  {
   "cell_type": "code",
   "execution_count": 2,
   "id": "ba596929",
   "metadata": {},
   "outputs": [],
   "source": [
    "mat = loadmat(\"datasets/AFLW/AFLWInfo_release.mat\")"
   ]
  },
  {
   "cell_type": "code",
   "execution_count": 3,
   "id": "7b438d86",
   "metadata": {},
   "outputs": [
    {
     "data": {
      "text/plain": [
       "{'__header__': b'MATLAB 5.0 MAT-file, Platform: PCWIN64, Created on: Thu Jun 16 16:39:35 2016',\n",
       " '__version__': '1.0',\n",
       " '__globals__': [],\n",
       " 'bbox': array([[ 62., 410.,  64., 412.],\n",
       "        [110., 198.,  25., 113.],\n",
       "        [ 63., 325., 128., 390.],\n",
       "        ...,\n",
       "        [373., 501., 468., 596.],\n",
       "        [245., 695.,  67., 517.],\n",
       "        [ 77., 225.,  88., 236.]]),\n",
       " 'data': array([[190.87477112, 234.17909241, 271.7192688 , ..., 313.26570048,\n",
       "         313.26570048, 369.        ],\n",
       "        [158.85507246, 163.72463768, 166.83574879, ...,  92.00966184,\n",
       "          91.19806763, 110.        ],\n",
       "        [114.37681159, 152.56038647, 187.78814697, ..., 308.57528687,\n",
       "         305.74285889, 365.        ],\n",
       "        ...,\n",
       "        [391.40096618, 404.88566828, 419.89694042, ..., 555.38647343,\n",
       "         551.82447665, 592.46276855],\n",
       "        [336.69522095, 398.34782609, 450.28985507, ..., 378.55072464,\n",
       "         366.95652174, 478.9699707 ],\n",
       "        [114.12486267, 132.9468599 , 149.81964573, ..., 202.62801932,\n",
       "         201.67793881, 230.32342529]]),\n",
       " 'mask_new': array([[1, 1, 1, ..., 1, 0, 1],\n",
       "        [0, 1, 1, ..., 1, 0, 1],\n",
       "        [1, 1, 1, ..., 1, 1, 1],\n",
       "        ...,\n",
       "        [1, 1, 1, ..., 1, 1, 1],\n",
       "        [1, 1, 1, ..., 1, 0, 1],\n",
       "        [1, 1, 1, ..., 1, 0, 1]], dtype=uint8),\n",
       " 'nameList': array([[array(['3/image00035.jpg'], dtype='<U16')],\n",
       "        [array(['3/image00032.jpg'], dtype='<U16')],\n",
       "        [array(['3/image00168.jpg'], dtype='<U16')],\n",
       "        ...,\n",
       "        [array(['0/image35031.jpg'], dtype='<U16')],\n",
       "        [array(['0/image35029.jpg'], dtype='<U16')],\n",
       "        [array(['0/image04496.jpg'], dtype='<U16')]], dtype=object),\n",
       " 'ra': array([[16503,  9320, 16469, ...,  3759,  2827, 15635]], dtype=uint16),\n",
       " 'readme': array(['The format of bbox, data, nameList are the same as https://github.com/zhusz/CVPR15-CFSS#formats. All of them are matlab 1-indexed (rather than c++ 0-indexed). mask_new defines the visibility of each landmark. ra defines the train/test partition. nameList(ra(1:20000)) is the training set and nameList(20001:24386)) is the test set.'],\n",
       "       dtype='<U331')}"
      ]
     },
     "execution_count": 3,
     "metadata": {},
     "output_type": "execute_result"
    }
   ],
   "source": [
    "mat"
   ]
  },
  {
   "cell_type": "code",
   "execution_count": 7,
   "id": "7455639e",
   "metadata": {},
   "outputs": [
    {
     "data": {
      "text/plain": [
       "array([array(['3/image00035.jpg'], dtype='<U16')], dtype=object)"
      ]
     },
     "execution_count": 7,
     "metadata": {},
     "output_type": "execute_result"
    }
   ],
   "source": [
    "mat['nameList'][0]"
   ]
  },
  {
   "cell_type": "code",
   "execution_count": 8,
   "id": "a6d39364",
   "metadata": {},
   "outputs": [
    {
     "name": "stdout",
     "output_type": "stream",
     "text": [
      "(38,)\n"
     ]
    }
   ],
   "source": [
    "print(mat['data'][0].shape)"
   ]
  },
  {
   "cell_type": "code",
   "execution_count": 9,
   "id": "8bca6da9",
   "metadata": {},
   "outputs": [],
   "source": [
    "save_index = [8, 11, 21] "
   ]
  },
  {
   "cell_type": "code",
   "execution_count": 10,
   "id": "b6aa63a5",
   "metadata": {},
   "outputs": [],
   "source": [
    "nPoints = len(mat[\"mask_new\"][0])"
   ]
  },
  {
   "cell_type": "code",
   "execution_count": 11,
   "id": "20464b0f",
   "metadata": {},
   "outputs": [
    {
     "data": {
      "text/plain": [
       "19"
      ]
     },
     "execution_count": 11,
     "metadata": {},
     "output_type": "execute_result"
    }
   ],
   "source": [
    "nPoints"
   ]
  },
  {
   "cell_type": "code",
   "execution_count": 13,
   "id": "80a43ed8",
   "metadata": {},
   "outputs": [],
   "source": [
    "def get_new_mask_new(lst, save_index):\n",
    "    result = []\n",
    "    for index in save_index:\n",
    "        result.append(lst[index - 1])\n",
    "    return np.array(result)"
   ]
  },
  {
   "cell_type": "code",
   "execution_count": 14,
   "id": "0888ee65",
   "metadata": {},
   "outputs": [
    {
     "ename": "IndexError",
     "evalue": "index 20 is out of bounds for axis 0 with size 19",
     "output_type": "error",
     "traceback": [
      "\u001b[1;31m---------------------------------------------------------------------------\u001b[0m",
      "\u001b[1;31mIndexError\u001b[0m                                Traceback (most recent call last)",
      "Cell \u001b[1;32mIn[14], line 1\u001b[0m\n\u001b[1;32m----> 1\u001b[0m \u001b[43mget_new_mask_new\u001b[49m\u001b[43m(\u001b[49m\u001b[43mmat\u001b[49m\u001b[43m[\u001b[49m\u001b[38;5;124;43m\"\u001b[39;49m\u001b[38;5;124;43mmask_new\u001b[39;49m\u001b[38;5;124;43m\"\u001b[39;49m\u001b[43m]\u001b[49m\u001b[43m[\u001b[49m\u001b[38;5;241;43m0\u001b[39;49m\u001b[43m]\u001b[49m\u001b[43m,\u001b[49m\u001b[43m \u001b[49m\u001b[43msave_index\u001b[49m\u001b[43m)\u001b[49m\n",
      "Cell \u001b[1;32mIn[13], line 4\u001b[0m, in \u001b[0;36mget_new_mask_new\u001b[1;34m(lst, save_index)\u001b[0m\n\u001b[0;32m      2\u001b[0m result \u001b[38;5;241m=\u001b[39m []\n\u001b[0;32m      3\u001b[0m \u001b[38;5;28;01mfor\u001b[39;00m index \u001b[38;5;129;01min\u001b[39;00m save_index:\n\u001b[1;32m----> 4\u001b[0m     result\u001b[38;5;241m.\u001b[39mappend(\u001b[43mlst\u001b[49m\u001b[43m[\u001b[49m\u001b[43mindex\u001b[49m\u001b[43m \u001b[49m\u001b[38;5;241;43m-\u001b[39;49m\u001b[43m \u001b[49m\u001b[38;5;241;43m1\u001b[39;49m\u001b[43m]\u001b[49m)\n\u001b[0;32m      5\u001b[0m \u001b[38;5;28;01mreturn\u001b[39;00m np\u001b[38;5;241m.\u001b[39marray(result)\n",
      "\u001b[1;31mIndexError\u001b[0m: index 20 is out of bounds for axis 0 with size 19"
     ]
    }
   ],
   "source": [
    "get_new_mask_new(mat[\"mask_new\"][0], save_index)"
   ]
  },
  {
   "cell_type": "code",
   "execution_count": 17,
   "id": "9b5b7289",
   "metadata": {},
   "outputs": [
    {
     "data": {
      "text/plain": [
       "array([array(['3/image00035.jpg'], dtype='<U16')], dtype=object)"
      ]
     },
     "execution_count": 17,
     "metadata": {},
     "output_type": "execute_result"
    }
   ],
   "source": [
    "mat[\"nameList\"][0]"
   ]
  },
  {
   "cell_type": "code",
   "execution_count": 28,
   "id": "19dc52b5",
   "metadata": {},
   "outputs": [],
   "source": [
    "res = None\n",
    "idx = -1\n",
    "for img in mat[\"nameList\"]:\n",
    "#     print(img)\n",
    "    idx += 1\n",
    "    if int(img[0][0].split(\"/\")[0]) == 0 and img[0][0].split(\"/\")[1] == \"image00002.jpg\":\n",
    "        res = img[0]\n",
    "        break"
   ]
  },
  {
   "cell_type": "code",
   "execution_count": 29,
   "id": "f57b52d7",
   "metadata": {},
   "outputs": [
    {
     "data": {
      "text/plain": [
       "array(['0/image00002.jpg'], dtype='<U16')"
      ]
     },
     "execution_count": 29,
     "metadata": {},
     "output_type": "execute_result"
    }
   ],
   "source": [
    "res"
   ]
  },
  {
   "cell_type": "code",
   "execution_count": 33,
   "id": "040332cd",
   "metadata": {},
   "outputs": [
    {
     "data": {
      "text/plain": [
       "array([array(['0/image00002.jpg'], dtype='<U16')], dtype=object)"
      ]
     },
     "execution_count": 33,
     "metadata": {},
     "output_type": "execute_result"
    }
   ],
   "source": [
    "mat[\"nameList\"][7135]"
   ]
  },
  {
   "cell_type": "code",
   "execution_count": 31,
   "id": "159a7800",
   "metadata": {},
   "outputs": [
    {
     "data": {
      "text/plain": [
       "array([153.52786255, 178.41867955, 206.53440857, 255.5178833 ,\n",
       "       285.50964355, 314.15341187, 159.96779388, 182.2173913 ,\n",
       "       203.38164251, 251.13687601, 276.09983897, 298.34943639,\n",
       "       197.69622803, 221.06700134, 249.5615387 , 182.76006441,\n",
       "       216.4057971 , 254.04037476, 212.        , 139.10061646,\n",
       "       146.93719807, 154.22991943, 160.21195984, 154.01651001,\n",
       "       154.1015625 , 159.41867955, 162.13204509, 169.7294686 ,\n",
       "       176.24154589, 171.90016103, 171.90016103, 229.30010986,\n",
       "       235.10012817, 236.21832275, 263.61191626, 279.34943639,\n",
       "       276.58047485, 328.        ])"
      ]
     },
     "execution_count": 31,
     "metadata": {},
     "output_type": "execute_result"
    }
   ],
   "source": [
    "mat[\"data\"][7135]"
   ]
  },
  {
   "cell_type": "code",
   "execution_count": null,
   "id": "899d87cd",
   "metadata": {},
   "outputs": [],
   "source": [
    "[1, 148.474365234375, 141.489990234375], \n",
    "[2, 174.0, 143.0], \n",
    "[3, 204.0, 159.0], \n",
    "[4, 266.0, 158.0], \n",
    "[5, 291.0, 150.0], \n",
    "[6, 313.0, 154.0], \n",
    "[7, 161.0, 161.0], \n",
    "[8, 183.0, 160.0], \n",
    "[9, 203.0, 169.0], \n",
    "[10, 254.0, 177.0], \n",
    "[11, 275.0, 169.0], \n",
    "[12, 300.0, 172.0], \n",
    "[13, 133.0, 187.0], \n",
    "[14, 196.0, 232.0], \n",
    "[15, 221.0, 243.0], \n",
    "[16, 250.0, 239.0], \n",
    "[18, 184.0, 261.0], \n",
    "[19, 218.0, 274.0], \n",
    "[20, 251.0, 271.0], \n",
    "[21, 212.0, 328.0]"
   ]
  },
  {
   "cell_type": "code",
   "execution_count": 4,
   "id": "b0b79060",
   "metadata": {},
   "outputs": [
    {
     "data": {
      "text/plain": [
       "array([ 62., 410.,  64., 412.])"
      ]
     },
     "execution_count": 4,
     "metadata": {},
     "output_type": "execute_result"
    }
   ],
   "source": [
    "mat[\"bbox\"][0]"
   ]
  },
  {
   "cell_type": "code",
   "execution_count": 5,
   "id": "38d7321c",
   "metadata": {},
   "outputs": [
    {
     "data": {
      "text/plain": [
       "array([array(['3/image00035.jpg'], dtype='<U16')], dtype=object)"
      ]
     },
     "execution_count": 5,
     "metadata": {},
     "output_type": "execute_result"
    }
   ],
   "source": [
    "mat['nameList'][0]"
   ]
  },
  {
   "cell_type": "code",
   "execution_count": null,
   "id": "a8938e86",
   "metadata": {},
   "outputs": [],
   "source": [
    "img_path = "
   ]
  }
 ],
 "metadata": {
  "kernelspec": {
   "display_name": "Python 3 (ipykernel)",
   "language": "python",
   "name": "python3"
  },
  "language_info": {
   "codemirror_mode": {
    "name": "ipython",
    "version": 3
   },
   "file_extension": ".py",
   "mimetype": "text/x-python",
   "name": "python",
   "nbconvert_exporter": "python",
   "pygments_lexer": "ipython3",
   "version": "3.11.3"
  }
 },
 "nbformat": 4,
 "nbformat_minor": 5
}
