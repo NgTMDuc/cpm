{
 "cells": [
  {
   "cell_type": "code",
   "execution_count": 1,
   "id": "59a6bb9b",
   "metadata": {},
   "outputs": [],
   "source": [
    "from scipy.io import loadmat\n",
    "import pandas as pd"
   ]
  },
  {
   "cell_type": "code",
   "execution_count": 2,
   "id": "ba596929",
   "metadata": {},
   "outputs": [],
   "source": [
    "mat = loadmat(\"datasets/AFLW/AFLWInfo_release.mat\")"
   ]
  },
  {
   "cell_type": "code",
   "execution_count": 3,
   "id": "7b438d86",
   "metadata": {},
   "outputs": [
    {
     "data": {
      "text/plain": [
       "{'__header__': b'MATLAB 5.0 MAT-file, Platform: PCWIN64, Created on: Thu Jun 16 16:39:35 2016',\n",
       " '__version__': '1.0',\n",
       " '__globals__': [],\n",
       " 'bbox': array([[ 62., 410.,  64., 412.],\n",
       "        [110., 198.,  25., 113.],\n",
       "        [ 63., 325., 128., 390.],\n",
       "        ...,\n",
       "        [373., 501., 468., 596.],\n",
       "        [245., 695.,  67., 517.],\n",
       "        [ 77., 225.,  88., 236.]]),\n",
       " 'data': array([[190.87477112, 234.17909241, 271.7192688 , ..., 313.26570048,\n",
       "         313.26570048, 369.        ],\n",
       "        [158.85507246, 163.72463768, 166.83574879, ...,  92.00966184,\n",
       "          91.19806763, 110.        ],\n",
       "        [114.37681159, 152.56038647, 187.78814697, ..., 308.57528687,\n",
       "         305.74285889, 365.        ],\n",
       "        ...,\n",
       "        [391.40096618, 404.88566828, 419.89694042, ..., 555.38647343,\n",
       "         551.82447665, 592.46276855],\n",
       "        [336.69522095, 398.34782609, 450.28985507, ..., 378.55072464,\n",
       "         366.95652174, 478.9699707 ],\n",
       "        [114.12486267, 132.9468599 , 149.81964573, ..., 202.62801932,\n",
       "         201.67793881, 230.32342529]]),\n",
       " 'mask_new': array([[1, 1, 1, ..., 1, 0, 1],\n",
       "        [0, 1, 1, ..., 1, 0, 1],\n",
       "        [1, 1, 1, ..., 1, 1, 1],\n",
       "        ...,\n",
       "        [1, 1, 1, ..., 1, 1, 1],\n",
       "        [1, 1, 1, ..., 1, 0, 1],\n",
       "        [1, 1, 1, ..., 1, 0, 1]], dtype=uint8),\n",
       " 'nameList': array([[array(['3/image00035.jpg'], dtype='<U16')],\n",
       "        [array(['3/image00032.jpg'], dtype='<U16')],\n",
       "        [array(['3/image00168.jpg'], dtype='<U16')],\n",
       "        ...,\n",
       "        [array(['0/image35031.jpg'], dtype='<U16')],\n",
       "        [array(['0/image35029.jpg'], dtype='<U16')],\n",
       "        [array(['0/image04496.jpg'], dtype='<U16')]], dtype=object),\n",
       " 'ra': array([[16503,  9320, 16469, ...,  3759,  2827, 15635]], dtype=uint16),\n",
       " 'readme': array(['The format of bbox, data, nameList are the same as https://github.com/zhusz/CVPR15-CFSS#formats. All of them are matlab 1-indexed (rather than c++ 0-indexed). mask_new defines the visibility of each landmark. ra defines the train/test partition. nameList(ra(1:20000)) is the training set and nameList(20001:24386)) is the test set.'],\n",
       "       dtype='<U331')}"
      ]
     },
     "execution_count": 3,
     "metadata": {},
     "output_type": "execute_result"
    }
   ],
   "source": [
    "mat"
   ]
  },
  {
   "cell_type": "code",
   "execution_count": 7,
   "id": "7455639e",
   "metadata": {},
   "outputs": [
    {
     "data": {
      "text/plain": [
       "array([array(['3/image00035.jpg'], dtype='<U16')], dtype=object)"
      ]
     },
     "execution_count": 7,
     "metadata": {},
     "output_type": "execute_result"
    }
   ],
   "source": [
    "mat['nameList'][0]"
   ]
  },
  {
   "cell_type": "code",
   "execution_count": 8,
   "id": "a6d39364",
   "metadata": {},
   "outputs": [
    {
     "name": "stdout",
     "output_type": "stream",
     "text": [
      "(24386, 4)\n"
     ]
    }
   ],
   "source": [
    "print(mat['bbox'].shape)"
   ]
  },
  {
   "cell_type": "code",
   "execution_count": null,
   "id": "8bca6da9",
   "metadata": {},
   "outputs": [],
   "source": []
  }
 ],
 "metadata": {
  "kernelspec": {
   "display_name": "Python 3 (ipykernel)",
   "language": "python",
   "name": "python3"
  },
  "language_info": {
   "codemirror_mode": {
    "name": "ipython",
    "version": 3
   },
   "file_extension": ".py",
   "mimetype": "text/x-python",
   "name": "python",
   "nbconvert_exporter": "python",
   "pygments_lexer": "ipython3",
   "version": "3.11.3"
  }
 },
 "nbformat": 4,
 "nbformat_minor": 5
}
